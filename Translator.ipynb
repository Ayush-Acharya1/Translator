{
  "nbformat": 4,
  "nbformat_minor": 0,
  "metadata": {
    "colab": {
      "provenance": [],
      "authorship_tag": "ABX9TyN/xcmBg83oW9mHd4PHLVpP",
      "include_colab_link": true
    },
    "kernelspec": {
      "name": "python3",
      "display_name": "Python 3"
    },
    "language_info": {
      "name": "python"
    }
  },
  "cells": [
    {
      "cell_type": "markdown",
      "metadata": {
        "id": "view-in-github",
        "colab_type": "text"
      },
      "source": [
        "<a href=\"https://colab.research.google.com/github/Ayush-Acharya1/Translator/blob/main/Translator.ipynb\" target=\"_parent\"><img src=\"https://colab.research.google.com/assets/colab-badge.svg\" alt=\"Open In Colab\"/></a>"
      ]
    },
    {
      "cell_type": "code",
      "execution_count": null,
      "metadata": {
        "id": "g9RjTzpzbDOh"
      },
      "outputs": [],
      "source": [
        "#install pytorch\n",
        "!pip install torch torchvision torchaudio --index-url https://download.pytorch.org/whl/cu118"
      ]
    },
    {
      "cell_type": "code",
      "source": [
        "#install gradio and transformers\n",
        "!pip install gradio transformers ipywidgets --upgrade"
      ],
      "metadata": {
        "id": "rcOj8XggcXv1"
      },
      "execution_count": null,
      "outputs": []
    },
    {
      "cell_type": "code",
      "source": [
        "import gradio as gr  #ui\n",
        "from transformers import pipeline #transformers pipeline\n",
        "\n",
        "\n",
        "#model=\"huggingface-course/marian-finetuned-kde4-en-to-fr\"\n",
        "#model=\"anjankumar/Anjan-finetuned-iitbombay-en-to-hi\"\n",
        "def translator(text):\n",
        "  tp=pipeline(\"translation\",model=\"anjankumar/Anjan-finetuned-iitbombay-en-to-hi\")\n",
        "  result=tp(text)\n",
        "  return result[0]['translation_text']"
      ],
      "metadata": {
        "id": "07ZShL2acoDs"
      },
      "execution_count": 31,
      "outputs": []
    },
    {
      "cell_type": "code",
      "source": [
        "#using gradio for ui\n",
        "\n",
        "interface=gr.Interface(fn=translator,inputs=gr.Textbox(lines=2,placeholder='Text to translate'),outputs='text')\n",
        "interface.launch()"
      ],
      "metadata": {
        "id": "SzqOK8EbfkPy"
      },
      "execution_count": null,
      "outputs": []
    }
  ]
}